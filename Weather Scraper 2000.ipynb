{
 "cells": [
  {
   "cell_type": "code",
   "execution_count": 2,
   "id": "7155989f-22f6-4f4f-8efb-448a9bcae024",
   "metadata": {},
   "outputs": [],
   "source": [
    "#import libraries needed\n",
    "\n",
    "import numpy as np\n",
    "import requests\n",
    "from bs4 import BeautifulSoup\n",
    "import pandas as pd\n",
    "from pathlib import Path\n",
    "from selenium import webdriver\n",
    "from selenium.webdriver.common.keys import Keys\n",
    "from selenium.common.exceptions import WebDriverException as WDE\n",
    "from selenium.common.exceptions import TimeoutException\n",
    "from selenium.webdriver.common.desired_capabilities import DesiredCapabilities\n",
    "from selenium.webdriver.common.by import By\n",
    "from selenium.webdriver.support.ui import WebDriverWait\n",
    "from selenium.webdriver.support import expected_conditions as EC\n",
    "import re\n",
    "from datetime import datetime, timedelta\n",
    "import time\n",
    "import matplotlib.pyplot as plt"
   ]
  },
  {
   "cell_type": "code",
   "execution_count": 3,
   "id": "d4a4a936-69f6-4251-8c21-e400f8c96595",
   "metadata": {},
   "outputs": [],
   "source": [
    "#select the chrome webdriver, ignore certificate errors, use an incognito tab \n",
    "#and the headless argument (accesses driver without actually opening a browser window)\n",
    "\n",
    "options = webdriver.ChromeOptions()\n",
    "options.add_argument('--ignore-certificate-errors')\n",
    "#options.add_argument('--incognito')\n",
    "#options.add_argument('--headless')\n",
    "driver = webdriver.Chrome(\"/Users/jordan/Downloads/chromedriver 3\", options=options)"
   ]
  },
  {
   "cell_type": "code",
   "execution_count": null,
   "id": "c52a473e-7a79-434d-9b45-accfabdf2f33",
   "metadata": {},
   "outputs": [],
   "source": []
  },
  {
   "cell_type": "code",
   "execution_count": null,
   "id": "097776d7-ae5f-472c-baba-b9d7e84bb18c",
   "metadata": {
    "tags": []
   },
   "outputs": [],
   "source": [
    "#set url in for loop using an F-string\n",
    "#get url\n",
    "#make sure it has the element we need\n",
    "\n",
    "delay = 10 \n",
    "\n",
    "rows_data = []\n",
    "\n",
    "#specify the year\n",
    "year_number = 2021\n",
    "\n",
    "for month_number in range(1,13):\n",
    "    \n",
    "    if month_number == 1 or 3 or 5 or 7 or 8 or 10 or 12:\n",
    "        max_days = 31\n",
    "    \n",
    "    if month_number == 4 or 6 or 9 or 11:\n",
    "        max_days = 30\n",
    "    \n",
    "    if month_number == 2:\n",
    "        max_days = 28\n",
    "        \n",
    "    for day_number in range(1,max_days+1):\n",
    "\n",
    "        url = F'https://www.wunderground.com/history/daily/au/brisbane/YBBN/date/{year_number}-{month_number}-{day_number}'\n",
    "        driver.get(url)\n",
    "        time.sleep(10)\n",
    "\n",
    "        # try:\n",
    "        # WebDriverWait(driver, delay).until(EC.presence_of_element_located((By.CLASS_NAME, 'observation-table ng-star-inserted')))\n",
    "            #except TimeoutException:\n",
    "            #print('error: Loading exceeds delay time')\n",
    "           #break\n",
    "        #else:\n",
    "        soup = BeautifulSoup(driver.page_source, \"lxml\")\n",
    "        main_table = soup.find('div', {'class': 'observation-table ng-star-inserted'})\n",
    "        rows = main_table.find_all('tr', {'class':'mat-row cdk-row ng-star-inserted'})\n",
    "\n",
    "        for row in rows:\n",
    "            time_place = row.find('td', {'class': 'mat-cell cdk-cell cdk-column-dateString mat-column-dateString ng-star-inserted'}).text\n",
    "            time_label = time.strptime(time_place, \"%I:%M %p\")\n",
    "            num_secs = time_label.tm_hour*3600 + time_label.tm_min*60\n",
    "            x = datetime(year_number, month_number, day_number) + timedelta(seconds=num_secs)\n",
    "\n",
    "            temp = row.find('td', {'class': 'mat-cell cdk-cell cdk-column-temperature mat-column-temperature ng-star-inserted'}).text\n",
    "            temp = int(temp.split('\\xa0')[0])\n",
    "\n",
    "            hum = row.find('td', {'class': 'mat-cell cdk-cell cdk-column-humidity mat-column-humidity ng-star-inserted'}).text\n",
    "            hum = int(hum.split('\\xa0')[0])\n",
    "\n",
    "            precip = row.find('td', {'class': 'mat-cell cdk-cell cdk-column-precipRate mat-column-precipRate ng-star-inserted'}).text\n",
    "            precip = float(precip.split('\\xa0')[0])\n",
    "\n",
    "            rows_data.append(\n",
    "                [x, temp, hum, precip]       \n",
    "            )\n",
    "\n",
    "columns = ['Time', 'Temperature', 'Humidity', 'Precipitation']\n",
    "df = pd.DataFrame(data=rows_data, columns=columns)\n",
    "df.to_csv(F'Topsy Weather Scraper {year_number}.csv', index=False)   \n",
    "df\n",
    "        \n",
    "#driver.quit()\n"
   ]
  },
  {
   "cell_type": "code",
   "execution_count": null,
   "id": "0f95cd44-eb10-4973-9d48-4e257cf3d590",
   "metadata": {},
   "outputs": [],
   "source": []
  },
  {
   "cell_type": "code",
   "execution_count": 246,
   "id": "b36c9ea6-b0b2-49c0-a2af-f8d53c0181ea",
   "metadata": {},
   "outputs": [],
   "source": [
    "driver.quit()"
   ]
  },
  {
   "cell_type": "code",
   "execution_count": null,
   "id": "cda55046-7055-4549-baac-32593b2a8177",
   "metadata": {},
   "outputs": [],
   "source": []
  }
 ],
 "metadata": {
  "kernelspec": {
   "display_name": "Python 3 (ipykernel)",
   "language": "python",
   "name": "python3"
  },
  "language_info": {
   "codemirror_mode": {
    "name": "ipython",
    "version": 3
   },
   "file_extension": ".py",
   "mimetype": "text/x-python",
   "name": "python",
   "nbconvert_exporter": "python",
   "pygments_lexer": "ipython3",
   "version": "3.9.7"
  }
 },
 "nbformat": 4,
 "nbformat_minor": 5
}
